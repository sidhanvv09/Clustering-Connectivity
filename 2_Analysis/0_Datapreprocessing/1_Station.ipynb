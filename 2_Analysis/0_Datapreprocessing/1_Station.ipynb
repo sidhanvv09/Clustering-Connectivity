{
 "cells": [
  {
   "cell_type": "code",
   "execution_count": 1,
   "id": "52d0365c-5843-4a53-8fbd-fbfc6b30b816",
   "metadata": {
    "tags": []
   },
   "outputs": [
    {
     "name": "stderr",
     "output_type": "stream",
     "text": [
      "c:\\Users\\sstar\\anaconda3\\envs\\imed\\Lib\\site-packages\\pandas\\core\\arrays\\masked.py:60: UserWarning: Pandas requires version '1.3.6' or newer of 'bottleneck' (version '1.3.5' currently installed).\n",
      "  from pandas.core import (\n"
     ]
    },
    {
     "name": "stdout",
     "output_type": "stream",
     "text": [
      "E:\\academy\\OneDrive - IIT Delhi\\3. IIT DELHI\\2. Research\\1_Streamflow\n"
     ]
    }
   ],
   "source": [
    "#Array packages\n",
    "import pandas as pd\n",
    "import numpy as np\n",
    "import xarray as xr\n",
    "import netCDF4 as nc4\n",
    "\n",
    "from scipy.stats import kendalltau\n",
    "import pymannkendall as mk\n",
    "\n",
    "#plots\n",
    "import matplotlib.pyplot as plt\n",
    "import rioxarray as rio\n",
    "import geopandas as gpd\n",
    "from shapely.geometry import mapping\n",
    "import cartopy.crs as ccrs\n",
    "\n",
    "#Progress meter\n",
    "from dask.diagnostics import ProgressBar\n",
    "from tqdm import tqdm\n",
    "\n",
    "# Directories\n",
    "import os\n",
    "import glob\n",
    "import dask\n",
    "#import h5netcdf\n",
    "import scipy\n",
    "\n",
    "import os\n",
    "os.chdir(r\"E:\\academy\\OneDrive - IIT Delhi\\3. IIT DELHI\\2. Research\\1_Streamflow\")\n",
    "print(os.getcwd())"
   ]
  },
  {
   "cell_type": "code",
   "execution_count": 1,
   "id": "2eac80a1",
   "metadata": {},
   "outputs": [],
   "source": [
    "#testing git"
   ]
  },
  {
   "cell_type": "markdown",
   "id": "12743ee3",
   "metadata": {},
   "source": [
    "### 1. Modify the stating and ending date (Initially it is based on level, change it to streamflow)"
   ]
  },
  {
   "cell_type": "code",
   "execution_count": 202,
   "id": "feb4578b",
   "metadata": {},
   "outputs": [],
   "source": [
    "gauge_info=pd.read_csv(r\"3_Data\\Data_r\\2_Station\\metadata.csv\")\n",
    "gauge_info.drop(columns=['Level_Entries'],inplace=True)\n",
    "\n",
    "\n",
    "for g in range(len(gauge_info)):\n",
    "    data1=pd.read_csv(f'3_Data/Data_r/2_Station/streamflow/{gauge_info.iloc[g,0]}.csv',index_col=0,parse_dates=True)        \n",
    "    data1.drop(columns=['Level (m)'],inplace=True)\n",
    "    data1=data1[data1['Streamflow (cumecs)'].notna()]\n",
    "\n",
    "    if(len(data1)!=0):\n",
    "        gauge_info.loc[g,['Start_date']]=data1.index[0]\n",
    "        gauge_info.loc[g,['End_date']]=data1.index[-1]\n",
    "        gauge_info.loc[g,['Expected_entries']]=len(pd.date_range(data1.index[0],data1.index[-1]))\n",
    "    else:\n",
    "        gauge_info.loc[g,['Start_date']]=0\n",
    "        gauge_info.loc[g,['End_date']]=0\n",
    "        gauge_info.loc[g,['Expected_entries']]=0\n",
    "    \n",
    "    data1.to_csv(f'3_Data/Data_p/2_Station/streamflow_data/{gauge_info.iloc[g,0]}.csv')  "
   ]
  },
  {
   "cell_type": "markdown",
   "id": "eab0b304",
   "metadata": {
    "slideshow": {
     "slide_type": "slide"
    }
   },
   "source": [
    "## 2. station subsetting\n",
    " 1. Identify the stations with minimum 30 years of data\n",
    " 2. Subset the station with minimum 30 years of data and with period upto 2010\n",
    " 3. Percentage of missing data"
   ]
  },
  {
   "cell_type": "code",
   "execution_count": 203,
   "id": "b185cb66",
   "metadata": {},
   "outputs": [
    {
     "data": {
      "text/plain": [
       "Timestamp('1959-05-01 00:00:00')"
      ]
     },
     "execution_count": 203,
     "metadata": {},
     "output_type": "execute_result"
    }
   ],
   "source": [
    "\n",
    "for i in range(len(gauge_info.index)):\n",
    "    gauge_info.loc[i,'Period_length']=pd.to_datetime(gauge_info.loc[i,'End_date']).year-pd.to_datetime(gauge_info.loc[i,'Start_date']).year\n",
    "\n",
    "\n",
    "gauge_info_p=gauge_info.loc[(gauge_info['Period_length']>28) & (pd.to_datetime(gauge_info['End_date'])>'2010') & ((gauge_info['Streamflow_Entries']/gauge_info['Expected_entries'])>0.7) ,:]\n",
    "\n",
    "gauge_info_p=gauge_info_p.reset_index(drop=True)\n",
    "gauge_info_p.drop(columns='Privacy',inplace=True) \n",
    "    \n",
    "gauge_info_p.to_csv(f'3_Data/Data_p/2_Station/gauge_info_p.csv')\n",
    "\n",
    "# Minimum data and maximum data\n",
    "pd.to_datetime(gauge_info_p['End_date']).max()\n",
    "pd.to_datetime(gauge_info_p['Start_date']).min()\n",
    "\n"
   ]
  },
  {
   "cell_type": "markdown",
   "id": "03b125b0",
   "metadata": {},
   "source": [
    "## 3. Create streamflow data over different stations into single xarrayy (station and time)\n",
    "The main aim is to make a consistent single xarray for better management"
   ]
  },
  {
   "cell_type": "code",
   "execution_count": 2,
   "id": "3ab8f68e",
   "metadata": {},
   "outputs": [],
   "source": [
    "gauge_info_p=pd.read_csv(f'3_Data/Data_p/2_Station/gauge_info_p.csv',index_col=0)\n",
    "date1=pd.date_range(start='1970',end='2021',freq='D')\n",
    "station=list(gauge_info_p['Station'])\n",
    "gauge_final=pd.DataFrame(index=date1, columns=station)\n",
    "\n",
    "for g in range(len(gauge_info_p.index)):\n",
    "    gauge_id=pd.read_csv(f'3_Data/Data_p/2_Station/streamflow_data/{gauge_info_p.iloc[g,0]}.csv',index_col=0,parse_dates=True)\n",
    "    common_date=np.intersect1d(gauge_id.index,date1)\n",
    "    gauge_final.loc[common_date,gauge_info_p.iloc[g,1]]=gauge_id.loc[common_date, 'Streamflow (cumecs)']\n",
    "\n",
    "gauge_xr=xr.DataArray(np.array(gauge_final),coords=[date1,station],dims=['time','station'],name='streamflow')\n",
    "gauge_xr = xr.Dataset({'streamflow': gauge_xr })\n",
    "gauge_xr.to_netcdf(f'3_Data/Data_p/2_Station/Gauge_streamflow.nc')   "
   ]
  },
  {
   "cell_type": "code",
   "execution_count": 8,
   "id": "0e58c44a",
   "metadata": {},
   "outputs": [
    {
     "name": "stderr",
     "output_type": "stream",
     "text": [
      "  0%|          | 0/5 [00:00<?, ?it/s]"
     ]
    },
    {
     "name": "stderr",
     "output_type": "stream",
     "text": [
      "100%|██████████| 5/5 [00:00<00:00, 14.53it/s]\n"
     ]
    }
   ],
   "source": [
    "## Season\n",
    "ssn=['All','Pre-monsoon','Monsoon','Post-monsoon','Winter']\n",
    "ssn_n=[range(1,13),[3,4,5],[6,7,8,9],[10,11],[12,1,2]]\n",
    "ds_list=[]\n",
    "data=xr.open_mfdataset(f'3_Data/Data_p/2_Station/Gauge_streamflow.nc')\n",
    "\n",
    "for s in tqdm(range(5)):\n",
    "\n",
    "    sf=data['streamflow'].sel(time=data[\"time.month\"].isin(ssn_n[s])).compute()\n",
    "    sf=sf.expand_dims(season=[ssn[s]])\n",
    "    ds_list.append(sf)\n",
    "    \n",
    "sf_ssn=xr.concat(ds_list,dim='season')\n",
    "sf_ssn_ds = xr.Dataset({'streamflow': sf_ssn})\n",
    "sf_ssn_ds.to_netcdf(f'3_Data/Data_p/2_Station/Gauge_streamflow_ssn.nc')  "
   ]
  },
  {
   "cell_type": "code",
   "execution_count": null,
   "id": "6387da79",
   "metadata": {},
   "outputs": [],
   "source": []
  },
  {
   "cell_type": "code",
   "execution_count": 3,
   "id": "da20b6d0",
   "metadata": {},
   "outputs": [
    {
     "name": "stderr",
     "output_type": "stream",
     "text": [
      "100%|██████████| 5/5 [00:05<00:00,  1.03s/it]\n",
      "C:\\Users\\sstar\\AppData\\Local\\Temp\\ipykernel_17788\\3122266122.py:22: DeprecationWarning: dropping variables using `drop` is deprecated; use drop_vars.\n",
      "  fld=xr.concat(ds_fld,dim='season').drop(['quantile'])\n",
      "c:\\Users\\sstar\\anaconda3\\envs\\imed\\Lib\\site-packages\\numpy\\lib\\nanfunctions.py:1577: RuntimeWarning: All-NaN slice encountered\n",
      "  result = np.apply_along_axis(_nanquantile_1d, axis, a, q,\n",
      "c:\\Users\\sstar\\anaconda3\\envs\\imed\\Lib\\site-packages\\dask\\array\\reductions.py:540: RuntimeWarning: All-NaN slice encountered\n",
      "  return np.nanmin(x_chunk, axis=axis, keepdims=keepdims)\n"
     ]
    }
   ],
   "source": [
    "###### Calculate Indices######\n",
    "\n",
    "ssn=['All','Pre-monsoon','Monsoon','Post-monsoon','Winter']\n",
    "ssn_n=[range(1,13),[3,4,5],[6,7,8,9],[10,11],[12,1,2]]\n",
    "ds_drt=[];ds_fld=[]\n",
    "data=xr.open_mfdataset(f'3_Data/Data_p/2_Station/Gauge_streamflow.nc')\n",
    "\n",
    "\n",
    "for s in tqdm(range(5)):\n",
    "\n",
    "    ## drt\n",
    "    drt_ssn=data['streamflow'].sel(time=data[\"time.month\"].isin(ssn_n[s])).rolling(time=7).mean().resample(time='YE').min()\n",
    "    drt_ssn=drt_ssn.expand_dims(season=[ssn[s]])\n",
    "    ds_drt.append(drt_ssn)\n",
    "\n",
    "    ## Flood\n",
    "    fld_ssn=data['streamflow'].sel(time=data[\"time.month\"].isin(ssn_n[s])).resample(time='YE').quantile(0.95, dim='time')\n",
    "    fld_ssn=fld_ssn.expand_dims(season=[ssn[s]])\n",
    "    ds_fld.append(fld_ssn)\n",
    "\n",
    "    \n",
    "drt=xr.concat(ds_drt,dim='season')\n",
    "fld=xr.concat(ds_fld,dim='season').drop(['quantile'])\n",
    "\n",
    "dry_wet_ssn = xr.Dataset({'drt_flow': drt, 'fld_flow': fld})\n",
    "dry_wet_ssn.to_netcdf(r'3_Data/Data_p/2_Station/Gauge_indices.nc')\n",
    "\n"
   ]
  },
  {
   "cell_type": "markdown",
   "id": "36b69d09",
   "metadata": {},
   "source": [
    "## 1. Station visualizaation"
   ]
  },
  {
   "cell_type": "code",
   "execution_count": 195,
   "id": "b96fdf4d-1316-4624-93e3-90db4c997756",
   "metadata": {
    "tags": []
   },
   "outputs": [
    {
     "data": {
      "text/plain": [
       "<cartopy.mpl.gridliner.Gridliner at 0x2114f272710>"
      ]
     },
     "execution_count": 195,
     "metadata": {},
     "output_type": "execute_result"
    },
    {
     "data": {
      "image/png": "[encoded data removed]",
      "text/plain": [
       "<Figure size 400x400 with 1 Axes>"
      ]
     },
     "metadata": {},
     "output_type": "display_data"
    }
   ],
   "source": [
    "gauge_info=pd.read_csv(r\"3_Data\\Data_r\\2_Station\\metadata.csv\")\n",
    "south_asia=gpd.read_file(r'3_Data\\Data_p\\3_Shapefiles\\south_asia_p.shp')\n",
    "\n",
    "fig, ax1 = plt.subplots(1, 1, figsize=(4,4), subplot_kw={\"projection\": ccrs.PlateCarree()})\n",
    "south_asia.plot(ax=ax1,transform=ccrs.PlateCarree())\n",
    "\n",
    "c1=np.repeat(['white'],len(gauge_info_p['Latitude']))\n",
    "ax1.scatter(gauge_info_p['Longitude'],gauge_info_p['Latitude'],c=c1,s=0.5)\n",
    "# Add gridlines and titles for better readability\n",
    "ax1.gridlines(draw_labels=True)"
   ]
  }
 ],
 "metadata": {
  "kernelspec": {
   "display_name": "Python 3 (ipykernel)",
   "language": "python",
   "name": "python3"
  },
  "language_info": {
   "codemirror_mode": {
    "name": "ipython",
    "version": 3
   },
   "file_extension": ".py",
   "mimetype": "text/x-python",
   "name": "python",
   "nbconvert_exporter": "python",
   "pygments_lexer": "ipython3",
   "version": "3.11.5"
  }
 },
 "nbformat": 4,
 "nbformat_minor": 5
}
