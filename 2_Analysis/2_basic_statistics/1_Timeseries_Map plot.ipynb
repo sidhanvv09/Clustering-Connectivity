{
 "cells": [
  {
   "cell_type": "code",
   "execution_count": 1,
   "metadata": {},
   "outputs": [
    {
     "name": "stdout",
     "output_type": "stream",
     "text": [
      "G:\\OneDrive - IIT Delhi\\3. IIT DELHI\\2. Research\\2_Papers\\1_Streamflow Trend analysis\n"
     ]
    }
   ],
   "source": [
    "#Array packages\n",
    "import pandas as pd\n",
    "import numpy as np\n",
    "import xarray as xr\n",
    "import netCDF4 as nc4\n",
    "\n",
    "from scipy.stats import kendalltau\n",
    "\n",
    "#plots\n",
    "import matplotlib.pyplot as plt\n",
    "import cartopy.crs as ccrs\n",
    "import geopandas as gpd\n",
    "import scienceplots\n",
    "import cartopy.feature as cfeature\n",
    "\n",
    "\n",
    "#Progress meter\n",
    "from dask.diagnostics import ProgressBar\n",
    "from tqdm import tqdm\n",
    "\n",
    "# Directories\n",
    "import os\n",
    "import glob\n",
    "import dask\n",
    "#import h5netcdf\n",
    "import scipy\n",
    "\n",
    "import os\n",
    "os.chdir(r\"G:\\OneDrive - IIT Delhi\\3. IIT DELHI\\2. Research\\2_Papers\\1_Streamflow Trend analysis\")\n",
    "print(os.getcwd())"
   ]
  },
  {
   "cell_type": "markdown",
   "metadata": {},
   "source": [
    "## 1 Loading Data"
   ]
  },
  {
   "cell_type": "code",
   "execution_count": 2,
   "metadata": {},
   "outputs": [],
   "source": [
    "gauge_info=pd.read_csv('3_Data/Data_p/2_Station/gauge_info_p.csv',index_col=0)\n",
    "gauge_info1=gauge_info.iloc[:,1:5]\n",
    "gauge_sf=xr.open_dataset(f'3_Data/Data_p/2_Station/Gauge_streamflow.nc')\n",
    "ILDAS_sf=xr.open_mfdataset(f'3_Data/Data_p/1_ILDAS/ILDAS_station_streamflow.nc')\n",
    "south_asia=gpd.read_file(r'3_Data\\Data_p\\3_Shapefiles\\south_asia_p.shp')"
   ]
  },
  {
   "cell_type": "code",
   "execution_count": 5,
   "metadata": {},
   "outputs": [],
   "source": [
    "gauge_sf_m=gauge_sf.resample(time='M').mean()\n",
    "ILDAS_sf_m=ILDAS_sf.resample(time='M').mean()\n",
    "tim=pd.date_range(start=\"1980-01\", end=\"2020-12\", freq=\"M\")\n",
    "gauge_info1\n",
    "\n",
    "\n",
    "stations=gauge_sf_m['station'].values\n",
    "tim=pd.date_range(start=\"1980-01\", end=\"2020-12\", freq=\"M\").to_numpy(dtype='datetime64[ns]')"
   ]
  },
  {
   "cell_type": "code",
   "execution_count": 80,
   "metadata": {},
   "outputs": [
    {
     "name": "stderr",
     "output_type": "stream",
     "text": [
      "241it [03:08,  1.28it/s]\n"
     ]
    }
   ],
   "source": [
    "\n",
    "plt.rcParams[\"font.family\"] = \"Times New Roman\"\n",
    "plt.rcParams[\"font.serif\"] = \"Times New Roman\"\n",
    "\n",
    "\n",
    "\n",
    "df=pd.DataFrame(index=tim,columns=['ILDAS','Gauge'])\n",
    "\n",
    "\n",
    "\n",
    "\n",
    "\n",
    "for i,stn in tqdm(enumerate(stations)):\n",
    "\n",
    "    df['Gauge']=gauge_sf_m['streamflow'].sel(station=stn,time=tim)\n",
    "    df['ILDAS']=ILDAS_sf_m['streamflow'].sel(station=stn,time=tim)\n",
    "\n",
    "    fig = plt.figure(figsize=(10, 12))\n",
    "    gs = fig.add_gridspec(2, 1, height_ratios=[2.7, 1])  # Controls the height ratio of subplots\n",
    "\n",
    "    # Plot 1 - Timeseries\n",
    "    ax1 = fig.add_subplot(gs[1])  \n",
    "    ax1.plot(tim, df['Gauge'], color='blue', label='Gauge', alpha=1, linewidth=1.3)\n",
    "    ax1.plot(tim, df['ILDAS'], color='red', label='ILDAS', alpha=1, linewidth=1,linestyle='--')\n",
    "\n",
    "\n",
    "    [x.set_linewidth(1.4) for x in ax1.spines.values()]\n",
    "\n",
    "    ax1.set_xlabel('Time',fontsize=14,labelpad=7,weight='bold')\n",
    "    ax1.set_ylabel('Streamflow',fontsize=14,labelpad=7,weight='bold')\n",
    "    ax1.tick_params(which='major', length=0)\n",
    "    ax1.tick_params(which='minor', length=0)\n",
    "    #ax1.set_ylim(22,33)\n",
    "\n",
    "    lgnd=plt.legend(loc='center', ncol=2,fontsize=13, bbox_to_anchor=(0.79, 0.92),frameon=True, borderpad=0.32, edgecolor='black')\n",
    "    frame = lgnd.get_frame()\n",
    "    frame.set_linewidth(0.8)\n",
    "\n",
    "    # # Plot 2 - Map\n",
    "    ax0 = fig.add_subplot(gs[0], projection=ccrs.PlateCarree())  # Set the projection for the map\n",
    "    south_asia.plot(ax=ax0, color='none', edgecolor='Black', linewidth=0.8, alpha=1)\n",
    "    [x.set_linewidth(1.8) for x in ax0.spines.values()] \n",
    "    #ax0.coastlines(resolution='110m', linewidth=1)\n",
    "\n",
    "    ax0.scatter(gauge_info1['Longitude'],gauge_info1['Latitude'],s=10)\n",
    "    ax0.scatter(gauge_info1[gauge_info1['Station']==stn]['Longitude'],gauge_info1[gauge_info1['Station']==stn]['Latitude'],color='red',s=80)\n",
    "\n",
    "\n",
    "    #ax0.set_title(stations[0].values)\n",
    "\n",
    "    ax0.text(0.72, 0.85, stn, fontsize=18, color='black',weight='bold',ha='right', va='top', transform=ax0.transAxes)\n",
    "\n",
    "    # Adjust the layout to avoid overlap\n",
    "    fig.tight_layout(pad=2.0)  # Increase padding if needed\n",
    "\n",
    "\n",
    "    plt.savefig(f'2_Streamflow_Analysis/2_basic_statistics/Outputs/Timeseries plots/{i+1}_{stn}.jpeg')\n",
    "    plt.close(fig)"
   ]
  },
  {
   "cell_type": "code",
   "execution_count": null,
   "metadata": {},
   "outputs": [
    {
     "name": "stderr",
     "output_type": "stream",
     "text": [
      "C:\\Users\\2024CEZ8029\\AppData\\Local\\Temp\\ipykernel_4688\\3443012196.py:3: DeprecationWarning: Starting with ImageIO v3 the behavior of this function will switch to that of iio.v3.imread. To keep the current behavior (and make this warning disappear) use `import imageio.v2 as imageio` or call `imageio.v2.imread` directly.\n",
      "  images = [imageio.imread(f'2_Streamflow_Analysis/2_basic_statistics/Outputs/Timeseries plots/{i+1}_{stn}.jpeg') for i,stn in enumerate(stations)]\n"
     ]
    },
    {
     "ename": "",
     "evalue": "",
     "output_type": "error",
     "traceback": [
      "\u001b[1;31mThe Kernel crashed while executing code in the current cell or a previous cell. \n",
      "\u001b[1;31mPlease review the code in the cell(s) to identify a possible cause of the failure. \n",
      "\u001b[1;31mClick <a href='https://aka.ms/vscodeJupyterKernelCrash'>here</a> for more info. \n",
      "\u001b[1;31mView Jupyter <a href='command:jupyter.viewOutput'>log</a> for further details."
     ]
    }
   ],
   "source": [
    "#Create GIF\n",
    "import imageio\n",
    "images = [imageio.imread(f'2_Streamflow_Analysis/2_basic_statistics/Outputs/Timeseries plots/{i+1}_{stn}.jpeg') for i,stn in enumerate(stations)]\n",
    "imageio.mimsave(f'2_Streamflow_Analysis/2_basic_statistics/Outputs/streamflow_timeseries_GIF.gif', images,duration=800,loop=0,dpi=300)  \n",
    "#df=pd.DataFrame(index=ILDAS_ind['time'].values,columns=['Gauge','ILDAS'])\n"
   ]
  },
  {
   "cell_type": "markdown",
   "metadata": {},
   "source": [
    "###"
   ]
  }
 ],
 "metadata": {
  "kernelspec": {
   "display_name": "imed",
   "language": "python",
   "name": "python3"
  },
  "language_info": {
   "codemirror_mode": {
    "name": "ipython",
    "version": 3
   },
   "file_extension": ".py",
   "mimetype": "text/x-python",
   "name": "python",
   "nbconvert_exporter": "python",
   "pygments_lexer": "ipython3",
   "version": "3.11.5"
  }
 },
 "nbformat": 4,
 "nbformat_minor": 2
}
